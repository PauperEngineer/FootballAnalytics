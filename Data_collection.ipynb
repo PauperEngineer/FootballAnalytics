{
 "cells": [
  {
   "cell_type": "code",
   "execution_count": 12,
   "id": "6cd15f09",
   "metadata": {},
   "outputs": [],
   "source": [
    "import requests\n"
   ]
  },
  {
   "cell_type": "markdown",
   "id": "2649e031",
   "metadata": {},
   "source": [
    "# For countries"
   ]
  },
  {
   "cell_type": "code",
   "execution_count": 2,
   "id": "f1130667",
   "metadata": {},
   "outputs": [],
   "source": [
    "import requests\n",
    "\n",
    "url = \"https://api-football-v1.p.rapidapi.com/v3/countries\"\n",
    "\n",
    "headers = {\n",
    "\t\"X-RapidAPI-Key\": \"cffedc8ba0msh05f60a82471176dp14a29fjsn8f2e2b6580e6\",\n",
    "\t\"X-RapidAPI-Host\": \"api-football-v1.p.rapidapi.com\"\n",
    "}\n",
    "\n",
    "countries = requests.request(\"GET\", url, headers=headers)\n"
   ]
  },
  {
   "cell_type": "code",
   "execution_count": 2,
   "id": "662b17eb",
   "metadata": {},
   "outputs": [],
   "source": [
    "writeFile =open('countries.json', 'w')\n",
    "writeFile.write(countries.text)\n",
    "writeFile.close()"
   ]
  },
  {
   "cell_type": "markdown",
   "id": "14d9baf1",
   "metadata": {},
   "source": [
    "## Leagues"
   ]
  },
  {
   "cell_type": "code",
   "execution_count": 1,
   "id": "41859079",
   "metadata": {},
   "outputs": [],
   "source": [
    "#1.Leagues \n",
    "import requests\n",
    "\n",
    "url = \"https://api-football-v1.p.rapidapi.com/v3/leagues\"\n",
    "\n",
    "headers = {\n",
    "\t\"X-RapidAPI-Key\": \"cffedc8ba0msh05f60a82471176dp14a29fjsn8f2e2b6580e6\",\n",
    "\t\"X-RapidAPI-Host\": \"api-football-v1.p.rapidapi.com\"\n",
    "}\n",
    "\n",
    "leagues = requests.request(\"GET\", url, headers=headers)\n"
   ]
  },
  {
   "cell_type": "code",
   "execution_count": 11,
   "id": "ea3cf48e",
   "metadata": {},
   "outputs": [],
   "source": [
    "writeFile =open('leagues.json', 'w')\n",
    "writeFile.write(leagues.text)\n",
    "writeFile.close()"
   ]
  },
  {
   "cell_type": "code",
   "execution_count": 5,
   "id": "942e1a02",
   "metadata": {},
   "outputs": [],
   "source": [
    "import json\n",
    "f=open('leagues.json')\n",
    "x=json.load(f)"
   ]
  },
  {
   "cell_type": "markdown",
   "id": "b46e4538",
   "metadata": {},
   "source": [
    "## Venue (by Country name)"
   ]
  },
  {
   "cell_type": "code",
   "execution_count": 35,
   "id": "8a350041",
   "metadata": {},
   "outputs": [],
   "source": [
    "import pandas as pd\n",
    "import os\n",
    "import requests\n",
    "import time"
   ]
  },
  {
   "cell_type": "code",
   "execution_count": 38,
   "id": "02b62fa1",
   "metadata": {},
   "outputs": [],
   "source": [
    "country=pd.read_csv('Raw_data/Venue/countries.csv')\n",
    "country_list=country['country'].values\n",
    "file_list=os.listdir('Raw_data\\Venue')\n",
    "country_avl=set()\n",
    "for i in file_list:\n",
    "    country_avl.add(i.split('_')[0])\n",
    "count=0\n",
    "url = \"https://api-football-v1.p.rapidapi.com/v3/venues\"\n",
    "for i in country_list:\n",
    "    if i not in country_avl:\n",
    "        querystring = {\"country\":i}\n",
    "        headers = {\t\"X-RapidAPI-Key\": \"cffedc8ba0msh05f60a82471176dp14a29fjsn8f2e2b6580e6\",\n",
    "                   \"X-RapidAPI-Host\": \"api-football-v1.p.rapidapi.com\"}\n",
    "        venues = requests.request(\"GET\", url, headers=headers, params=querystring)\n",
    "    else:\n",
    "        continue\n",
    "    writeFile =open('Raw_data/Venue/{}_venues.json'.format(i), 'w')\n",
    "    writeFile.write(venues.text)\n",
    "    writeFile.close()      "
   ]
  },
  {
   "cell_type": "markdown",
   "id": "7af1a6c5",
   "metadata": {},
   "source": [
    "## Coach (by Coach id: Max Coach_id: 19313)"
   ]
  },
  {
   "cell_type": "code",
   "execution_count": 40,
   "id": "b8294bd2",
   "metadata": {},
   "outputs": [],
   "source": [
    "import pandas as pd\n",
    "import os\n",
    "import requests\n",
    "import time"
   ]
  },
  {
   "cell_type": "code",
   "execution_count": 48,
   "id": "f5208470",
   "metadata": {},
   "outputs": [
    {
     "name": "stdout",
     "output_type": "stream",
     "text": [
      "12408.419182300568\n"
     ]
    }
   ],
   "source": [
    "coach_list=os.listdir('Raw_data/Coach/')\n",
    "coach_avl=set()\n",
    "for i in coach_list:\n",
    "    coach_avl.add(int(i.split('_')[0]))\n",
    "maximum_coach_id=19313\n",
    "url = \"https://api-football-v1.p.rapidapi.com/v3/coachs\"\n",
    "t1=time.time()\n",
    "for i in range(0,maximum_coach_id+1):\n",
    "    if i not in coach_avl:\n",
    "        querystring = {\"id\":str(i)}\n",
    "        headers = {\t\"X-RapidAPI-Key\": \"cffedc8ba0msh05f60a82471176dp14a29fjsn8f2e2b6580e6\",\n",
    "                   \"X-RapidAPI-Host\": \"api-football-v1.p.rapidapi.com\"}\n",
    "        coach = requests.request(\"GET\", url, headers=headers, params=querystring)\n",
    "        writeFile =open('Raw_data/Coach/{}_coach.json'.format(i), 'w')\n",
    "        writeFile.write(coach.text)\n",
    "        writeFile.close() \n",
    "    else:\n",
    "        continue\n",
    "print(time.time()-t1)"
   ]
  },
  {
   "cell_type": "markdown",
   "id": "15789fc4",
   "metadata": {},
   "source": [
    "## Team (By team_id: maximum_team_id=5500)"
   ]
  },
  {
   "cell_type": "code",
   "execution_count": 49,
   "id": "58a1b190",
   "metadata": {},
   "outputs": [],
   "source": [
    "import pandas as pd\n",
    "import os\n",
    "import requests\n",
    "import time"
   ]
  },
  {
   "cell_type": "code",
   "execution_count": null,
   "id": "58985891",
   "metadata": {},
   "outputs": [],
   "source": [
    "team_list=os.listdir('Raw_data/Team')\n",
    "team_avl=set()\n",
    "url = \"https://api-football-v1.p.rapidapi.com/v3/teams\"\n",
    "max_team_id=5500\n",
    "for i in team_list:\n",
    "    team_avl.add(int(i.split('_')[0]))\n",
    "for i in range(0,max_team_id+1):\n",
    "    if i not in team_avl:\n",
    "        querystring = {\"id\":str(i)}\n",
    "        headers = {\"X-RapidAPI-Key\": \"cffedc8ba0msh05f60a82471176dp14a29fjsn8f2e2b6580e6\",\n",
    "                   \"X-RapidAPI-Host\": \"api-football-v1.p.rapidapi.com\"\n",
    "                  }\n",
    "        team = requests.request(\"GET\", url, headers=headers, params=querystring)\n",
    "        writeFile =open('Raw_data/Team/{}_team.json'.format(i), 'w')\n",
    "        writeFile.write(team.text)\n",
    "        writeFile.close() \n",
    "    else:\n",
    "        continue"
   ]
  },
  {
   "cell_type": "markdown",
   "id": "a70e6c75",
   "metadata": {},
   "source": [
    "## Player (By player_id: maximum_player_id=25000,season=2015 By default)"
   ]
  },
  {
   "cell_type": "code",
   "execution_count": 2,
   "id": "74c40be5",
   "metadata": {},
   "outputs": [],
   "source": [
    "import pandas as pd\n",
    "import os\n",
    "import requests\n",
    "import time\n",
    "player_list=os.listdir('Raw_data\\Player')\n",
    "player_avl=set()\n",
    "for i in player_list:\n",
    "    player_avl.add(int(i.split('_')[0]))\n",
    "players=pd.read_parquet(\"Data_Tracking\\Players\\player_master_list.parquet\")\n",
    "n=len(players)\n",
    "url = \"https://api-football-v1.p.rapidapi.com/v3/players\"\n",
    "max_count=70000\n",
    "count=0\n",
    "for i in range(0,n):\n",
    "    season=players['season'][i]\n",
    "    p_id=players['player_id'][i]\n",
    "    if ((p_id not in player_avl) and (count<max_count)):\n",
    "        querystring = {\"id\":str(p_id),\"season\":str(season)}\n",
    "        headers = {\t\"X-RapidAPI-Key\": \"cffedc8ba0msh05f60a82471176dp14a29fjsn8f2e2b6580e6\",\n",
    "                   \"X-RapidAPI-Host\": \"api-football-v1.p.rapidapi.com\" }\n",
    "        player=requests.request(\"GET\", url, headers=headers, params=querystring)\n",
    "        writeFile =open('Raw_data/Player/{}_{}_player.json'.format(p_id,season), 'w')\n",
    "        writeFile.write(player.text)\n",
    "        writeFile.close() \n",
    "        count=count+1\n",
    "    else:\n",
    "        continue"
   ]
  },
  {
   "cell_type": "markdown",
   "id": "b3774e49",
   "metadata": {},
   "source": [
    "# Fixtures (By Fixture_id)"
   ]
  },
  {
   "cell_type": "code",
   "execution_count": 1,
   "id": "4c4c96dd",
   "metadata": {},
   "outputs": [],
   "source": [
    "import pandas as pd\n",
    "import os\n",
    "import requests\n",
    "import time"
   ]
  },
  {
   "cell_type": "code",
   "execution_count": 8,
   "id": "5a84ce00",
   "metadata": {},
   "outputs": [],
   "source": [
    "import transformers"
   ]
  },
  {
   "cell_type": "code",
   "execution_count": null,
   "id": "410e8287",
   "metadata": {},
   "outputs": [],
   "source": [
    "print(count)"
   ]
  },
  {
   "cell_type": "code",
   "execution_count": null,
   "id": "bf1ecf81",
   "metadata": {},
   "outputs": [],
   "source": [
    "import os\n",
    "import requests\n",
    "import os\n",
    "fixture_list=os.listdir('Raw_data\\Fixture')\n",
    "fixture_avl=set()\n",
    "for i in fixture_list:\n",
    "    k=i.split('_')\n",
    "    if (k[0].isnumeric() and k[1].isnumeric()):\n",
    "        fixture_avl.add((int(k[0]),int(k[1])))\n",
    "max_fixture=400000\n",
    "url = \"https://api-football-v1.p.rapidapi.com/v3/fixtures\"\n",
    "for j in range(1,max_fixture,20):\n",
    "    if (j,j+19) not in fixture_avl:\n",
    "        text=str(j)\n",
    "        for i in range(j+1,j+20):\n",
    "            text+='-'+str(i)\n",
    "        querystring = {\"ids\":text}\n",
    "        headers = {\t\"X-RapidAPI-Key\": \"cffedc8ba0msh05f60a82471176dp14a29fjsn8f2e2b6580e6\",\n",
    "                   \"X-RapidAPI-Host\": \"api-football-v1.p.rapidapi.com\"}\n",
    "        fixture = requests.request(\"GET\", url, headers=headers, params=querystring)\n",
    "        writeFile=open('Raw_data\\Fixture\\{}_{}_fixture.json'.format(j,j+19),'w')\n",
    "        writeFile.write(fixture.text)\n",
    "        writeFile.close()\n",
    "    else:\n",
    "        continue"
   ]
  },
  {
   "cell_type": "markdown",
   "id": "75ad851c",
   "metadata": {},
   "source": [
    "### Player Performance by fixture id (Maximum_Fixture_id:400000)"
   ]
  },
  {
   "cell_type": "code",
   "execution_count": 38,
   "id": "1ce00dcb",
   "metadata": {},
   "outputs": [],
   "source": [
    "import os\n",
    "import pandas as pd\n",
    "import numpy as np\n",
    "import time"
   ]
  },
  {
   "cell_type": "code",
   "execution_count": 43,
   "id": "80476be1",
   "metadata": {},
   "outputs": [],
   "source": [
    "fixture_df=pd.read_csv('Raw_data/Fixture/Fixture_Log/fixtures_avl.csv')\n",
    "fixture_list=fixture_df['id'].values\n",
    "fixture_avl=set()\n",
    "for i in os.listdir('Raw_data/Player_Performance'):\n",
    "    k=i.split('_')[0]\n",
    "    if k.isnumeric():\n",
    "        fixture_avl.add(int(k))\n",
    "import requests\n",
    "url = \"https://api-football-v1.p.rapidapi.com/v3/fixtures/players\"\n",
    "count=0\n",
    "limit=20000\n",
    "for i in fixture_list:\n",
    "    if (count<limit and i not in fixture_avl):\n",
    "        querystring = {\"fixture\":str(i)}\n",
    "        headers = {\n",
    "            \"X-RapidAPI-Key\": \"cffedc8ba0msh05f60a82471176dp14a29fjsn8f2e2b6580e6\",\n",
    "            \"X-RapidAPI-Host\": \"api-football-v1.p.rapidapi.com\"}\n",
    "        response = requests.request(\"GET\", url, headers=headers, params=querystring)\n",
    "        with open(\"Raw_data\\Player_Performance\\{}_players_performance.json\".format(i),'w') as f:\n",
    "            f.write(response.text)\n",
    "            f.close()\n",
    "        count+=1\n",
    "    else:\n",
    "        continue"
   ]
  },
  {
   "cell_type": "code",
   "execution_count": 41,
   "id": "4dc74ae3",
   "metadata": {},
   "outputs": [
    {
     "name": "stdout",
     "output_type": "stream",
     "text": [
      "167880\n"
     ]
    }
   ],
   "source": [
    "limit=184000\n",
    "count=0\n",
    "for i in os.listdir('Raw_data/Player_Performance'):\n",
    "    k=i.split('_')[0]\n",
    "    if k.isnumeric():\n",
    "        fixture_avl.add(int(k))\n",
    "for i in fixture_list:\n",
    "    if (count<limit and i not in fixture_avl):\n",
    "        count+=1\n",
    "    else:\n",
    "        continue\n",
    "print(count)"
   ]
  },
  {
   "cell_type": "code",
   "execution_count": 66,
   "id": "c452fb67",
   "metadata": {},
   "outputs": [],
   "source": [
    "i=68\n",
    "url = \"https://api-football-v1.p.rapidapi.com/v3/fixtures/players\"\n",
    "querystring = {\"fixture\":str(i)}\n",
    "headers = { \"X-RapidAPI-Key\": \"cffedc8ba0msh05f60a82471176dp14a29fjsn8f2e2b6580e6\",\n",
    "           \"X-RapidAPI-Host\": \"api-football-v1.p.rapidapi.com\"}\n",
    "response = requests.request(\"GET\", url, headers=headers, params=querystring)\n",
    "with open(\"Raw_data\\Player_Performance\\{}__players_performance.json\".format(i),'w') as f:\n",
    "    f.write(response.text)\n",
    "    f.close()"
   ]
  },
  {
   "cell_type": "code",
   "execution_count": 3,
   "id": "25729fae",
   "metadata": {},
   "outputs": [
    {
     "name": "stdout",
     "output_type": "stream",
     "text": [
      "5647\n"
     ]
    }
   ],
   "source": [
    "print(count)"
   ]
  },
  {
   "cell_type": "code",
   "execution_count": null,
   "id": "d30695c4",
   "metadata": {},
   "outputs": [],
   "source": []
  }
 ],
 "metadata": {
  "kernelspec": {
   "display_name": "Python 3 (ipykernel)",
   "language": "python",
   "name": "python3"
  },
  "language_info": {
   "codemirror_mode": {
    "name": "ipython",
    "version": 3
   },
   "file_extension": ".py",
   "mimetype": "text/x-python",
   "name": "python",
   "nbconvert_exporter": "python",
   "pygments_lexer": "ipython3",
   "version": "3.9.12"
  }
 },
 "nbformat": 4,
 "nbformat_minor": 5
}
